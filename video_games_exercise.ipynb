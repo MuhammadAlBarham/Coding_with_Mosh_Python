{
 "cells": [
  {
   "cell_type": "code",
   "execution_count": 103,
   "id": "e7e2356d",
   "metadata": {},
   "outputs": [
    {
     "data": {
      "text/plain": [
       "1.0"
      ]
     },
     "execution_count": 103,
     "metadata": {},
     "output_type": "execute_result"
    }
   ],
   "source": [
    "import pandas as pd\n",
    "from sklearn.tree import DecisionTreeClassifier\n",
    "from sklearn.model_selection import train_test_split\n",
    "from sklearn.metrics import accuracy_score\n",
    "import joblib\n",
    "\n",
    "# Read the csv data and store it on a varible\n",
    "music_data = pd.read_csv('music.csv')\n",
    "\n",
    "# Split the input and output from the main data file\n",
    "\n",
    "X = music_data.drop(columns=['genre']).values\n",
    "Y = music_data['genre']\n",
    "\n",
    "# split the input and output data into train and test dataset\n",
    "\n",
    "x_train, x_test, y_train, y_test = train_test_split(X, Y, test_size=0.2)\n",
    "\n",
    "model = DecisionTreeClassifier()\n",
    "model.fit(X, Y)\n",
    "\n",
    "# Predict the output of the testing dataset\n",
    "predictions = model.predict(x_test)\n",
    "\n",
    "# Check the accuracy of the model\n",
    "accuracy_score(y_test, predictions)"
   ]
  },
  {
   "cell_type": "code",
   "execution_count": 106,
   "id": "2e4c9315",
   "metadata": {},
   "outputs": [
    {
     "data": {
      "text/plain": [
       "['music-recommender.joblib']"
      ]
     },
     "execution_count": 106,
     "metadata": {},
     "output_type": "execute_result"
    }
   ],
   "source": [
    "# save a model in sklearn\n",
    "\n",
    "joblib.dump(value = model, filename = 'music-recommender.joblib')"
   ]
  },
  {
   "cell_type": "code",
   "execution_count": 112,
   "id": "a7264cd2",
   "metadata": {},
   "outputs": [
    {
     "data": {
      "text/plain": [
       "array(['HipHop'], dtype=object)"
      ]
     },
     "execution_count": 112,
     "metadata": {},
     "output_type": "execute_result"
    }
   ],
   "source": [
    "# loading a model\n",
    "\n",
    "model1 = joblib.load('music-recommender.joblib')\n",
    "predictions = model1.predict([[21, 1]])\n",
    "predictions"
   ]
  },
  {
   "cell_type": "code",
   "execution_count": 114,
   "id": "8bd93572",
   "metadata": {},
   "outputs": [],
   "source": [
    "from sklearn import tree\n",
    "# dot --> graph description language\n",
    "\n",
    "tree.export_graphviz(model, out_file='music-recommender.dot', feature_names=['age', 'gender'],\n",
    "                     class_names =sorted(Y.unique()),\n",
    "                     label = 'all',\n",
    "                     rounded = True,\n",
    "                     filled = True)"
   ]
  },
  {
   "cell_type": "code",
   "execution_count": 116,
   "id": "7d3678ca",
   "metadata": {},
   "outputs": [
    {
     "name": "stdout",
     "output_type": "stream",
     "text": [
      "music-recommender.dot\r\n"
     ]
    }
   ],
   "source": [
    "ls *.dot"
   ]
  },
  {
   "cell_type": "code",
   "execution_count": null,
   "id": "22c4db35",
   "metadata": {},
   "outputs": [],
   "source": []
  }
 ],
 "metadata": {
  "kernelspec": {
   "display_name": "Python 3 (ipykernel)",
   "language": "python",
   "name": "python3"
  },
  "language_info": {
   "codemirror_mode": {
    "name": "ipython",
    "version": 3
   },
   "file_extension": ".py",
   "mimetype": "text/x-python",
   "name": "python",
   "nbconvert_exporter": "python",
   "pygments_lexer": "ipython3",
   "version": "3.9.13"
  }
 },
 "nbformat": 4,
 "nbformat_minor": 5
}
